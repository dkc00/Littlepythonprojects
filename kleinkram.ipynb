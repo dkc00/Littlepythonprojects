{
 "cells": [
  {
   "cell_type": "code",
   "execution_count": 1,
   "id": "6dc70c00-648d-4e64-b1a6-b93e619a644f",
   "metadata": {},
   "outputs": [
    {
     "name": "stdout",
     "output_type": "stream",
     "text": [
      "Burr\n"
     ]
    }
   ],
   "source": [
    "print(\"Burr\")"
   ]
  },
  {
   "cell_type": "code",
   "execution_count": 9,
   "id": "c1eff911-04fd-4723-819a-4b784aa6b559",
   "metadata": {},
   "outputs": [
    {
     "name": "stdout",
     "output_type": "stream",
     "text": [
      "Herzlich willkommen bei diesem Spiel!\n"
     ]
    },
    {
     "name": "stdin",
     "output_type": "stream",
     "text": [
      "Wähle eine Zahl zwischen 1 und 1000 400\n"
     ]
    },
    {
     "name": "stdout",
     "output_type": "stream",
     "text": [
      "Die Zahl ist zu klein!\n"
     ]
    },
    {
     "name": "stdin",
     "output_type": "stream",
     "text": [
      "Wähle eine Zahl zwischen 1 und 1000 700\n"
     ]
    },
    {
     "name": "stdout",
     "output_type": "stream",
     "text": [
      "Die Zahl ist zu groß!\n"
     ]
    },
    {
     "name": "stdin",
     "output_type": "stream",
     "text": [
      "Wähle eine Zahl zwischen 1 und 1000 600\n"
     ]
    },
    {
     "name": "stdout",
     "output_type": "stream",
     "text": [
      "Die Zahl ist zu groß!\n"
     ]
    },
    {
     "name": "stdin",
     "output_type": "stream",
     "text": [
      "Wähle eine Zahl zwischen 1 und 1000 500\n"
     ]
    },
    {
     "name": "stdout",
     "output_type": "stream",
     "text": [
      "Die Zahl ist zu groß!\n"
     ]
    },
    {
     "name": "stdin",
     "output_type": "stream",
     "text": [
      "Wähle eine Zahl zwischen 1 und 1000 450\n"
     ]
    },
    {
     "name": "stdout",
     "output_type": "stream",
     "text": [
      "Die Zahl ist zu groß!\n"
     ]
    },
    {
     "name": "stdin",
     "output_type": "stream",
     "text": [
      "Wähle eine Zahl zwischen 1 und 1000 420\n"
     ]
    },
    {
     "name": "stdout",
     "output_type": "stream",
     "text": [
      "Die Zahl ist zu klein!\n"
     ]
    },
    {
     "name": "stdin",
     "output_type": "stream",
     "text": [
      "Wähle eine Zahl zwischen 1 und 1000 430\n"
     ]
    },
    {
     "name": "stdout",
     "output_type": "stream",
     "text": [
      "Die Zahl ist zu klein!\n"
     ]
    },
    {
     "name": "stdin",
     "output_type": "stream",
     "text": [
      "Wähle eine Zahl zwischen 1 und 1000 440\n"
     ]
    },
    {
     "name": "stdout",
     "output_type": "stream",
     "text": [
      "Die Zahl ist zu klein!\n"
     ]
    },
    {
     "name": "stdin",
     "output_type": "stream",
     "text": [
      "Wähle eine Zahl zwischen 1 und 1000 445\n"
     ]
    },
    {
     "name": "stdout",
     "output_type": "stream",
     "text": [
      "Die Zahl ist zu klein!\n"
     ]
    },
    {
     "name": "stdin",
     "output_type": "stream",
     "text": [
      "Wähle eine Zahl zwischen 1 und 1000 447\n"
     ]
    },
    {
     "name": "stdout",
     "output_type": "stream",
     "text": [
      "Glückwunsch! Du hast die Zahl erraten!\n",
      "Du hast 10 Versuche benötigt!\n"
     ]
    },
    {
     "name": "stdin",
     "output_type": "stream",
     "text": [
      "Möchtest du nochmal spielen? ja\n",
      "Wähle eine Zahl zwischen 1 und 1000 500\n"
     ]
    },
    {
     "name": "stdout",
     "output_type": "stream",
     "text": [
      "Die Zahl ist zu groß!\n"
     ]
    },
    {
     "name": "stdin",
     "output_type": "stream",
     "text": [
      "Wähle eine Zahl zwischen 1 und 1000 300\n"
     ]
    },
    {
     "name": "stdout",
     "output_type": "stream",
     "text": [
      "Die Zahl ist zu klein!\n"
     ]
    },
    {
     "name": "stdin",
     "output_type": "stream",
     "text": [
      "Wähle eine Zahl zwischen 1 und 1000 400\n"
     ]
    },
    {
     "name": "stdout",
     "output_type": "stream",
     "text": [
      "Die Zahl ist zu klein!\n"
     ]
    },
    {
     "name": "stdin",
     "output_type": "stream",
     "text": [
      "Wähle eine Zahl zwischen 1 und 1000 450\n"
     ]
    },
    {
     "name": "stdout",
     "output_type": "stream",
     "text": [
      "Die Zahl ist zu groß!\n"
     ]
    },
    {
     "name": "stdin",
     "output_type": "stream",
     "text": [
      "Wähle eine Zahl zwischen 1 und 1000 425\n"
     ]
    },
    {
     "name": "stdout",
     "output_type": "stream",
     "text": [
      "Die Zahl ist zu klein!\n"
     ]
    },
    {
     "name": "stdin",
     "output_type": "stream",
     "text": [
      "Wähle eine Zahl zwischen 1 und 1000 435\n"
     ]
    },
    {
     "name": "stdout",
     "output_type": "stream",
     "text": [
      "Die Zahl ist zu klein!\n"
     ]
    },
    {
     "name": "stdin",
     "output_type": "stream",
     "text": [
      "Wähle eine Zahl zwischen 1 und 1000 440\n"
     ]
    },
    {
     "name": "stdout",
     "output_type": "stream",
     "text": [
      "Die Zahl ist zu klein!\n"
     ]
    },
    {
     "name": "stdin",
     "output_type": "stream",
     "text": [
      "Wähle eine Zahl zwischen 1 und 1000 445\n"
     ]
    },
    {
     "name": "stdout",
     "output_type": "stream",
     "text": [
      "Die Zahl ist zu klein!\n"
     ]
    },
    {
     "name": "stdin",
     "output_type": "stream",
     "text": [
      "Wähle eine Zahl zwischen 1 und 1000 447\n"
     ]
    },
    {
     "name": "stdout",
     "output_type": "stream",
     "text": [
      "Glückwunsch! Du hast die Zahl erraten!\n",
      "Du hast 9 Versuche benötigt!\n"
     ]
    },
    {
     "name": "stdin",
     "output_type": "stream",
     "text": [
      "Möchtest du nochmal spielen? nein\n"
     ]
    }
   ],
   "source": [
    "import random as rd \n",
    "liste = [rd.randint(1,1000) for i in range(10)]\n",
    "choice = rd.choice(liste)\n",
    "\n",
    "print(\"Herzlich willkommen bei diesem Spiel!\")\n",
    "counter = 0 \n",
    "\n",
    "while True: \n",
    "    eingabe = int(input(\"Wähle eine Zahl zwischen 1 und 1000\"))\n",
    "    if eingabe > choice: \n",
    "        print(\"Die Zahl ist zu groß!\")\n",
    "        counter += 1\n",
    "    elif eingabe < choice: \n",
    "        print(\"Die Zahl ist zu klein!\")\n",
    "        counter += 1\n",
    "    elif eingabe == choice: \n",
    "        print(\"Glückwunsch! Du hast die Zahl erraten!\")\n",
    "        counter += 1\n",
    "        print(f\"Du hast {counter} Versuche benötigt!\")\n",
    "        nochmal = str(input(\"Möchtest du nochmal spielen?\"))\n",
    "        if nochmal == \"ja\":\n",
    "            counter = 0\n",
    "            continue\n",
    "        else: \n",
    "            break          \n",
    "    else:\n",
    "        print(\"Gib bitte eine gültige Zahl ein.\")\n",
    "        \n"
   ]
  },
  {
   "cell_type": "code",
   "execution_count": 41,
   "id": "b2abfd48-e9d2-43b0-9773-5c25e055d9ed",
   "metadata": {},
   "outputs": [
    {
     "name": "stdin",
     "output_type": "stream",
     "text": [
      "Schere, Stein oder Papier?  Schere\n"
     ]
    },
    {
     "name": "stdout",
     "output_type": "stream",
     "text": [
      "Du hast gewonnen! Der Gegner hat Papier gewählt.\n"
     ]
    },
    {
     "name": "stdin",
     "output_type": "stream",
     "text": [
      "Willst du nochmal spielen?  ja\n",
      "Schere, Stein oder Papier?  Schere\n"
     ]
    },
    {
     "name": "stdout",
     "output_type": "stream",
     "text": [
      "Du hast verloren. Der Gegner hat Stein gewählt.\n"
     ]
    },
    {
     "name": "stdin",
     "output_type": "stream",
     "text": [
      "Willst du nochmal spielen?  ja\n",
      "Schere, Stein oder Papier?  Stein\n"
     ]
    },
    {
     "name": "stdout",
     "output_type": "stream",
     "text": [
      "Du hast verloren. Der Gegner hat Papier gewählt.\n"
     ]
    },
    {
     "name": "stdin",
     "output_type": "stream",
     "text": [
      "Willst du nochmal spielen?  nein\n"
     ]
    }
   ],
   "source": [
    "import random as rd \n",
    "liste2= ['Schere', 'Stein', 'Papier']\n",
    "\n",
    "\n",
    "def nochmal():\n",
    "    while True:\n",
    "        nochmal = str(input(\"Willst du nochmal spielen? \"))\n",
    "        if nochmal == 'ja':\n",
    "            return True\n",
    "        elif nochmal == 'nein':\n",
    "            return False\n",
    "        else:\n",
    "            print (\"Bitte gib ja oder nein ein.\")\n",
    "\n",
    "while True: \n",
    "    eingeben = str(input(\"Schere, Stein oder Papier? \"))\n",
    "    gegner = rd.choice(liste2)\n",
    "    if eingeben == gegner:\n",
    "        print(f\"Spielt nochmal. Ihr habt beide {eingeben} gewählt.\")\n",
    "    if eingeben not in liste2: \n",
    "        print(\"Gib einen gültigen Befehl ein.\")\n",
    "    elif (eingeben == 'Schere' and gegner == 'Papier') or \\\n",
    "         (eingeben == 'Stein' and gegner == 'Schere') or \\\n",
    "         (eingeben == 'Papier' and gegner == 'Stein'):\n",
    "        print(f\"Du hast gewonnen! Der Gegner hat {gegner} gewählt.\")\n",
    "    else: \n",
    "        print(f\"Du hast verloren. Der Gegner hat {gegner} gewählt.\")\n",
    "    if nochmal() is False:\n",
    "        break"
   ]
  },
  {
   "cell_type": "code",
   "execution_count": null,
   "id": "ebada67f-3450-4d3c-b2f5-a56288f2c7ae",
   "metadata": {},
   "outputs": [],
   "source": []
  }
 ],
 "metadata": {
  "kernelspec": {
   "display_name": "Python 3 (ipykernel)",
   "language": "python",
   "name": "python3"
  },
  "language_info": {
   "codemirror_mode": {
    "name": "ipython",
    "version": 3
   },
   "file_extension": ".py",
   "mimetype": "text/x-python",
   "name": "python",
   "nbconvert_exporter": "python",
   "pygments_lexer": "ipython3",
   "version": "3.11.7"
  }
 },
 "nbformat": 4,
 "nbformat_minor": 5
}
