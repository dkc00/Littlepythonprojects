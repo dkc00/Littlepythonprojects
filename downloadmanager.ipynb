{
 "cells": [
  {
   "cell_type": "markdown",
   "id": "950cb65c-0581-44ed-8468-9456911d9895",
   "metadata": {},
   "source": [
    "## Download file manager\n",
    "I need a program which helps me to manage my downloaded files. The program should list all my available items, furthermore I should have the possibility to delete certain items I don't want to be there."
   ]
  },
  {
   "cell_type": "markdown",
   "id": "7c5b4e90-b5b9-437b-b50b-587413aa404f",
   "metadata": {},
   "source": [
    "## Workflow\n",
    "1. Detect and list all files in my downloads.\n",
    "2. Give me the option to delete them.\n",
    "3. Show everything in a suitable Tkinter gui"
   ]
  },
  {
   "cell_type": "code",
   "execution_count": 156,
   "id": "9c2391ab-ea0f-4743-9eef-6e8ad589b15b",
   "metadata": {},
   "outputs": [],
   "source": [
    "#1\n",
    "\n",
    "import tkinter as tk\n",
    "from tkinter import messagebox, Listbox, Scrollbar, END, RIGHT\n",
    "import os\n",
    "\n",
    "access = os.path.expanduser (\"C:\\\\Users\\\\Daniel Koch\\\\Downloads\")\n",
    "\n",
    "# Function to list all my items in the download folder\n",
    "def listfiles(access):\n",
    "    files = []\n",
    "    for name in os.listdir(access):\n",
    "        path = os.path.join(access, name)\n",
    "        if os.path.isfile(path):\n",
    "            files.append(name)\n",
    "    return files \n",
    "\n",
    "# Function to delete files I don't like \n",
    "def deletefiles(access, name):\n",
    "    path = os.path.join(access, name)\n",
    "    if os.path.isfile(path):\n",
    "        os.remove(path)\n",
    "        return True \n",
    "    else:\n",
    "        return False\n",
    "\n",
    "# Update the listbox (tk.Listbox) to show me the current files\n",
    "def updatelistbox():\n",
    "    files = listfiles(access)\n",
    "    lb.delete(0, END)\n",
    "    for name in files:\n",
    "        lb.insert(END, name)\n",
    "\n",
    "def ondelete():\n",
    "    choose = lb.curselection() \n",
    "    if choose:\n",
    "        filetodelete = lb.get(choose[0])\n",
    "        if deletefiles(access, filetodelete):\n",
    "            messagebox.showinfo(title = \"Success\", message = f\" The file {filetodelete} has been deleted successfully.\")\n",
    "        else:\n",
    "            messagebox.showinfo(title = \"Error\", message = f\"There was a problem. The file {filetodelete} has not been deleted.\")\n",
    "        updatelistbox()\n",
    "    else:\n",
    "        messagebox.showinfo(title = \"Error\", message = \"Please select a file.\")"
   ]
  },
  {
   "cell_type": "code",
   "execution_count": 202,
   "id": "10892b64-4187-487c-a2f4-b57a98c6f972",
   "metadata": {},
   "outputs": [],
   "source": [
    "# Code to build the Tkinter environment\n",
    "\n",
    "root = tk.Tk()\n",
    "root.geometry(\"520x400\")\n",
    "root.title(\"Download File Manager\")\n",
    "\n",
    "lb = Listbox(root, selectmode=tk.SINGLE, width=50, font=('Helvetica, 16'), selectbackground=('blue'))\n",
    "lb.pack(pady=20)\n",
    "\n",
    "scrollbar = Scrollbar(root)\n",
    "scrollbar.pack(side=RIGHT, fill=tk.Y)\n",
    "lb.config(yscrollcommand=scrollbar.set)\n",
    "scrollbar.config(command=listbox.yview)\n",
    "\n",
    "deletebutton = tk.Button(root, text=\"Delete file\", command = ondelete)\n",
    "deletebutton.pack(pady=10)"
   ]
  },
  {
   "cell_type": "code",
   "execution_count": 204,
   "id": "83add895-ab4f-47c9-b733-f09066569aa2",
   "metadata": {},
   "outputs": [],
   "source": [
    "updatelistbox()\n",
    "\n",
    "root.mainloop()"
   ]
  },
  {
   "cell_type": "code",
   "execution_count": null,
   "id": "3227a405-66b9-46b3-9643-48b578608670",
   "metadata": {},
   "outputs": [],
   "source": []
  }
 ],
 "metadata": {
  "kernelspec": {
   "display_name": "Python 3 (ipykernel)",
   "language": "python",
   "name": "python3"
  },
  "language_info": {
   "codemirror_mode": {
    "name": "ipython",
    "version": 3
   },
   "file_extension": ".py",
   "mimetype": "text/x-python",
   "name": "python",
   "nbconvert_exporter": "python",
   "pygments_lexer": "ipython3",
   "version": "3.11.7"
  }
 },
 "nbformat": 4,
 "nbformat_minor": 5
}
